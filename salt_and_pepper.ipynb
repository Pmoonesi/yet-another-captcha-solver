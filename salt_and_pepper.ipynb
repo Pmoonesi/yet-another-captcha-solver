{
  "nbformat": 4,
  "nbformat_minor": 0,
  "metadata": {
    "colab": {
      "provenance": [],
      "gpuType": "T4"
    },
    "kernelspec": {
      "name": "python3",
      "display_name": "Python 3"
    },
    "language_info": {
      "name": "python"
    },
    "accelerator": "GPU"
  },
  "cells": [
    {
      "cell_type": "code",
      "execution_count": null,
      "metadata": {
        "id": "WS6GE7w2doiu"
      },
      "outputs": [],
      "source": [
        "import os\n",
        "import glob\n",
        "import numpy as np\n",
        "\n",
        "import io\n",
        "from PIL import Image\n",
        "from pathlib import Path\n",
        "from collections import Counter\n",
        "\n",
        "import tensorflow as tf\n",
        "from tensorflow import keras\n",
        "from tensorflow.keras import layers\n",
        "\n",
        "class CTCLayer(layers.Layer):\n",
        "    def __init__(self, name=None):\n",
        "        super().__init__(name=name)\n",
        "        self.loss_fn = keras.backend.ctc_batch_cost\n",
        "\n",
        "    def call(self, y_true, y_pred):\n",
        "        # Compute the training-time loss value and add it\n",
        "        # to the layer using `self.add_loss()`.\n",
        "        batch_len = tf.cast(tf.shape(y_true)[0], dtype=\"int64\")\n",
        "        input_length = tf.cast(tf.shape(y_pred)[1], dtype=\"int64\")\n",
        "        label_length = tf.cast(tf.shape(y_true)[1], dtype=\"int64\")\n",
        "\n",
        "        input_length = input_length * tf.ones(shape=(batch_len, 1), dtype=\"int64\")\n",
        "        label_length = label_length * tf.ones(shape=(batch_len, 1), dtype=\"int64\")\n",
        "\n",
        "        loss = self.loss_fn(y_true, y_pred, input_length, label_length)\n",
        "        self.add_loss(loss)\n",
        "\n",
        "        # At test time, just return the computed predictions\n",
        "        return y_pred\n",
        "\n",
        "\n",
        "\n",
        "class CreateModel:\n",
        "\n",
        "    def __init__(self, train_img_path, img_width=200, img_height=50):\n",
        "        # 이미지 크기\n",
        "        self.img_width = img_width\n",
        "        self.img_height = img_height\n",
        "        # 학습 이미지 파일 경로 리스트\n",
        "        self.images = sorted(train_img_path)\n",
        "        # 학습 이미지 파일 라벨 리스트\n",
        "        self.labels = [img.split(os.path.sep)[-1].split(\".png\")[0] for img in self.images]\n",
        "        # 라벨 SET\n",
        "        self.characters = set(char for label in self.labels for char in label)\n",
        "        # 라벨 최대 길이\n",
        "        self.max_length = max([len(label) for label in self.labels])\n",
        "\n",
        "        # Mapping characters to integers\n",
        "        self.char_to_num = layers.experimental.preprocessing.StringLookup(\n",
        "            vocabulary=sorted(self.characters), num_oov_indices=0, mask_token=None\n",
        "        )\n",
        "        # Mapping integers back to original characters\n",
        "        self.num_to_char = layers.experimental.preprocessing.StringLookup(\n",
        "            vocabulary=self.char_to_num.get_vocabulary(), mask_token=None, invert=True\n",
        "        )\n",
        "\n",
        "    def __init__(self, train_img_path, train_label_path, img_width=200, img_height=50):\n",
        "        # 이미지 크기\n",
        "        self.img_width = img_width\n",
        "        self.img_height = img_height\n",
        "        # 학습 이미지 파일 경로 리스트\n",
        "        self.images = sorted(train_img_path)\n",
        "\n",
        "        self.label_paths = sorted(train_label_path)\n",
        "\n",
        "        # 학습 이미지 파일 라벨 리스트\n",
        "        # self.labels = [img.split(os.path.sep)[-1].split(\".png\")[0] for img in self.images]\n",
        "        self.labels = self.load_labels(self.label_paths)\n",
        "        # 라벨 SET\n",
        "        self.characters = set(char for label in self.labels for char in label)\n",
        "        # 라벨 최대 길이\n",
        "        self.max_length = max([len(label) for label in self.labels])\n",
        "\n",
        "        # Mapping characters to integers\n",
        "        self.char_to_num = layers.experimental.preprocessing.StringLookup(\n",
        "            vocabulary=sorted(self.characters), num_oov_indices=0, mask_token=None\n",
        "        )\n",
        "        # Mapping integers back to original characters\n",
        "        self.num_to_char = layers.experimental.preprocessing.StringLookup(\n",
        "            vocabulary=self.char_to_num.get_vocabulary(), mask_token=None, invert=True\n",
        "        )\n",
        "\n",
        "    def load_labels(self, label_paths):\n",
        "        labels = []\n",
        "        for label in label_paths:\n",
        "          with open(label, 'r') as f:\n",
        "            labels.append(f.readline().rjust(5, ' '))\n",
        "\n",
        "        return labels\n",
        "\n",
        "\n",
        "    def train_model(self, epochs=100, earlystopping=False):\n",
        "        # 학습 및 검증을 위한 배치 사이즈 정의\n",
        "        batch_size = 16\n",
        "        # 다운 샘플링 요인 수 (Conv: 2, Pooling: 2)\n",
        "        downsample_factor = 4\n",
        "\n",
        "        # Splitting data into training and validation sets\n",
        "        x_train, x_valid, y_train, y_valid = self.split_data(np.array(self.images), np.array(self.labels))\n",
        "\n",
        "        train_dataset = tf.data.Dataset.from_tensor_slices((x_train, y_train))\n",
        "        train_dataset = (\n",
        "            train_dataset.map(\n",
        "                self.encode_single_sample, num_parallel_calls=tf.data.experimental.AUTOTUNE\n",
        "            )\n",
        "            .batch(batch_size)\n",
        "            .prefetch(buffer_size=tf.data.experimental.AUTOTUNE)\n",
        "        )\n",
        "\n",
        "        validation_dataset = tf.data.Dataset.from_tensor_slices((x_valid, y_valid))\n",
        "        validation_dataset = (\n",
        "            validation_dataset.map(\n",
        "                self.encode_single_sample, num_parallel_calls=tf.data.experimental.AUTOTUNE\n",
        "            )\n",
        "            .batch(batch_size)\n",
        "            .prefetch(buffer_size=tf.data.experimental.AUTOTUNE)\n",
        "        )\n",
        "\n",
        "        # Get the model\n",
        "        model = self.build_model()\n",
        "\n",
        "        if earlystopping == True:\n",
        "\n",
        "            early_stopping_patience = 10\n",
        "            # Add early stopping\n",
        "            early_stopping = keras.callbacks.EarlyStopping(\n",
        "                monitor=\"val_loss\", patience=early_stopping_patience, restore_best_weights=True\n",
        "            )\n",
        "\n",
        "            # Train the model\n",
        "            history = model.fit(\n",
        "                train_dataset,\n",
        "                validation_data=validation_dataset,\n",
        "                epochs=epochs,\n",
        "                callbacks=[early_stopping],\n",
        "            )\n",
        "\n",
        "        else:\n",
        "            # Train the model\n",
        "            history = model.fit(\n",
        "                train_dataset,\n",
        "                validation_data=validation_dataset,\n",
        "                epochs=epochs\n",
        "            )\n",
        "\n",
        "\n",
        "        return model\n",
        "\n",
        "\n",
        "    def encode_single_sample(self, img_path, label):\n",
        "        # 1. Read image\n",
        "        img = tf.io.read_file(img_path)\n",
        "        # 2. Decode and convert to grayscale\n",
        "        img = tf.io.decode_png(img, channels=1)\n",
        "        # 3. Convert to float32 in [0, 1] range\n",
        "        img = tf.image.convert_image_dtype(img, tf.float32)\n",
        "        # 4. Resize to the desired size\n",
        "        img = tf.image.resize(img, [self.img_height, self.img_width])\n",
        "        # 5. Transpose the image because we want the time\n",
        "        # dimension to correspond to the width of the image.\n",
        "        img = tf.transpose(img, perm=[1, 0, 2])\n",
        "        # 6. Map the characters in label to numbers\n",
        "        label = self.char_to_num(tf.strings.unicode_split(label, input_encoding=\"UTF-8\"))\n",
        "        # 7. Return a dict as our model is expecting two inputs\n",
        "        return {\"image\": img, \"label\": label}\n",
        "\n",
        "    def build_model(self):\n",
        "        # Inputs to the model\n",
        "        input_img = layers.Input(\n",
        "            shape=(self.img_width, self.img_height, 1), name=\"image\", dtype=\"float32\"\n",
        "        )\n",
        "        labels = layers.Input(name=\"label\", shape=(None,), dtype=\"float32\")\n",
        "\n",
        "        # First conv block\n",
        "        x = layers.Conv2D(\n",
        "            32,\n",
        "            (3, 3),\n",
        "            activation=\"relu\",\n",
        "            kernel_initializer=\"he_normal\",\n",
        "            padding=\"same\",\n",
        "            name=\"Conv1\",\n",
        "        )(input_img)\n",
        "        x = layers.MaxPooling2D((2, 2), name=\"pool1\")(x)\n",
        "\n",
        "        # Second conv block\n",
        "        x = layers.Conv2D(\n",
        "            64,\n",
        "            (3, 3),\n",
        "            activation=\"relu\",\n",
        "            kernel_initializer=\"he_normal\",\n",
        "            padding=\"same\",\n",
        "            name=\"Conv2\",\n",
        "        )(x)\n",
        "        x = layers.MaxPooling2D((2, 2), name=\"pool2\")(x)\n",
        "\n",
        "        # We have used two max pool with pool size and strides 2.\n",
        "        # Hence, downsampled feature maps are 4x smaller. The number of\n",
        "        # filters in the last layer is 64. Reshape accordingly before\n",
        "        # passing the output to the RNN part of the model\n",
        "        new_shape = ((self.img_width // 4), (self.img_height // 4) * 64)\n",
        "        x = layers.Reshape(target_shape=new_shape, name=\"reshape\")(x)\n",
        "        x = layers.Dense(64, activation=\"relu\", name=\"dense1\")(x)\n",
        "        x = layers.Dropout(0.2)(x)\n",
        "\n",
        "        # RNNs\n",
        "        x = layers.Bidirectional(layers.LSTM(128, return_sequences=True, dropout=0.25))(x)\n",
        "        x = layers.Bidirectional(layers.LSTM(64, return_sequences=True, dropout=0.25))(x)\n",
        "\n",
        "        # Output layer\n",
        "        x = layers.Dense(len(self.characters) + 1, activation=\"softmax\", name=\"dense2\")(x)\n",
        "\n",
        "        # Add CTC layer for calculating CTC loss at each step\n",
        "        output = CTCLayer(name=\"ctc_loss\")(labels, x)\n",
        "\n",
        "        # Define the model\n",
        "        model = keras.models.Model(\n",
        "            inputs=[input_img, labels], outputs=output, name=\"ocr_model_v1\"\n",
        "        )\n",
        "        # Optimizer\n",
        "        opt = keras.optimizers.Adam()\n",
        "        # Compile the model and return\n",
        "        model.compile(optimizer=opt)\n",
        "        return model\n",
        "\n",
        "    def split_data(self, images, labels, train_size=0.9, shuffle=True):\n",
        "        # 1. Get the total size of the dataset\n",
        "        size = len(images)\n",
        "        # 2. Make an indices array and shuffle it, if required\n",
        "        indices = np.arange(size)\n",
        "        if shuffle:\n",
        "            np.random.shuffle(indices)\n",
        "        # 3. Get the size of training samples\n",
        "        train_samples = int(size * train_size)\n",
        "        # 4. Split data into training and validation sets\n",
        "        x_train, y_train = images[indices[:train_samples]], labels[indices[:train_samples]]\n",
        "        x_valid, y_valid = images[indices[train_samples:]], labels[indices[train_samples:]]\n",
        "        return x_train, x_valid, y_train, y_valid\n",
        "\n",
        "\n",
        "class ApplyModel:\n",
        "\n",
        "    def __init__(self,\n",
        "                 weights_path,\n",
        "                 img_width=200,\n",
        "                 img_height=50,\n",
        "                 max_length=6,\n",
        "                 characters={'0', '1', '2', '3', '4', '5', '6', '7', '8', '9'}):\n",
        "\n",
        "        self.img_width = img_width\n",
        "        self.img_height = img_height\n",
        "        self.max_length = max_length\n",
        "        self.characters = characters\n",
        "\n",
        "        # Mapping characters to integers\n",
        "        self.char_to_num = layers.experimental.preprocessing.StringLookup(\n",
        "            vocabulary=sorted(self.characters), num_oov_indices=0, mask_token=None\n",
        "        )\n",
        "        # Mapping integers back to original characters\n",
        "        self.num_to_char = layers.experimental.preprocessing.StringLookup(\n",
        "            vocabulary=self.char_to_num.get_vocabulary(), mask_token=None, invert=True\n",
        "        )\n",
        "        # Model\n",
        "        self.model = self.build_model()\n",
        "        self.model.load_weights(weights_path)\n",
        "        self.prediction_model = keras.models.Model(\n",
        "            self.model.get_layer(name=\"image\").input, self.model.get_layer(name=\"dense2\").output\n",
        "        )\n",
        "\n",
        "    def predict(self, target_img_path):\n",
        "        target_img = self.encode_single_sample(target_img_path)['image']\n",
        "        target_img = tf.reshape(target_img, shape=[1,self.img_width,self.img_height,1])\n",
        "        pred_val = self.prediction_model.predict(target_img)\n",
        "        pred = self.decode_batch_predictions(pred_val)[0]\n",
        "        return pred\n",
        "\n",
        "    def predict_from_bytes(self, image_bytes):\n",
        "        target_img = self.encode_single_sample_from_bytes(image_bytes)['image']\n",
        "        target_img = tf.expand_dims(target_img, 0)\n",
        "        pred_val = self.prediction_model.predict(target_img)\n",
        "        pred = self.decode_batch_predictions(pred_val)[0]\n",
        "        return pred\n",
        "\n",
        "    def encode_single_sample(self, img_path):\n",
        "        img = tf.io.read_file(img_path)\n",
        "        img = tf.io.decode_png(img, channels=1)\n",
        "        img = tf.image.convert_image_dtype(img, tf.float32)\n",
        "        img = tf.image.resize(img, [self.img_height, self.img_width])\n",
        "        img = tf.transpose(img, perm=[1, 0, 2])\n",
        "        return {\"image\": img}\n",
        "\n",
        "    def encode_single_sample_from_bytes(self, image_bytes):\n",
        "        img = tf.io.decode_image(image_bytes, channels=1)\n",
        "        img = tf.image.convert_image_dtype(img, tf.float32)\n",
        "        img = tf.image.resize(img, [self.img_height, self.img_width])\n",
        "        img = tf.transpose(img, perm=[1, 0, 2])\n",
        "        return {\"image\": img}\n",
        "\n",
        "    def build_model(self):\n",
        "        # Inputs to the model\n",
        "        input_img = layers.Input(\n",
        "            shape=(self.img_width, self.img_height, 1), name=\"image\", dtype=\"float32\"\n",
        "        )\n",
        "        labels = layers.Input(name=\"label\", shape=(None,), dtype=\"float32\")\n",
        "\n",
        "        # First conv block\n",
        "        x = layers.Conv2D(\n",
        "            32,\n",
        "            (3, 3),\n",
        "            activation=\"relu\",\n",
        "            kernel_initializer=\"he_normal\",\n",
        "            padding=\"same\",\n",
        "            name=\"Conv1\",\n",
        "        )(input_img)\n",
        "        x = layers.MaxPooling2D((2, 2), name=\"pool1\")(x)\n",
        "\n",
        "        # Second conv block\n",
        "        x = layers.Conv2D(\n",
        "            64,\n",
        "            (3, 3),\n",
        "            activation=\"relu\",\n",
        "            kernel_initializer=\"he_normal\",\n",
        "            padding=\"same\",\n",
        "            name=\"Conv2\",\n",
        "        )(x)\n",
        "        x = layers.MaxPooling2D((2, 2), name=\"pool2\")(x)\n",
        "\n",
        "        # We have used two max pool with pool size and strides 2.\n",
        "        # Hence, downsampled feature maps are 4x smaller. The number of\n",
        "        # filters in the last layer is 64. Reshape accordingly before\n",
        "        # passing the output to the RNN part of the model\n",
        "        new_shape = ((self.img_width // 4), (self.img_height // 4) * 64)\n",
        "        x = layers.Reshape(target_shape=new_shape, name=\"reshape\")(x)\n",
        "        x = layers.Dense(64, activation=\"relu\", name=\"dense1\")(x)\n",
        "        x = layers.Dropout(0.2)(x)\n",
        "\n",
        "        # RNNs\n",
        "        x = layers.Bidirectional(layers.LSTM(128, return_sequences=True, dropout=0.25))(x)\n",
        "        x = layers.Bidirectional(layers.LSTM(64, return_sequences=True, dropout=0.25))(x)\n",
        "\n",
        "        # Output layer\n",
        "        x = layers.Dense(len(self.characters) + 1, activation=\"softmax\", name=\"dense2\")(x)\n",
        "\n",
        "        # Add CTC layer for calculating CTC loss at each step\n",
        "        output = CTCLayer(name=\"ctc_loss\")(labels, x)\n",
        "\n",
        "        # Define the model\n",
        "        model = keras.models.Model(\n",
        "            inputs=[input_img, labels], outputs=output, name=\"ocr_model_v1\"\n",
        "        )\n",
        "        # Optimizer\n",
        "        opt = keras.optimizers.Adam()\n",
        "        # Compile the model and return\n",
        "        model.compile(optimizer=opt)\n",
        "        return model\n",
        "\n",
        "    def split_data(self, images, labels, train_size=0.9, shuffle=True):\n",
        "        # 1. Get the total size of the dataset\n",
        "        size = len(images)\n",
        "        # 2. Make an indices array and shuffle it, if required\n",
        "        indices = np.arange(size)\n",
        "        if shuffle:\n",
        "            np.random.shuffle(indices)\n",
        "        # 3. Get the size of training samples\n",
        "        train_samples = int(size * train_size)\n",
        "        # 4. Split data into training and validation sets\n",
        "        x_train, y_train = images[indices[:train_samples]], labels[indices[:train_samples]]\n",
        "        x_valid, y_valid = images[indices[train_samples:]], labels[indices[train_samples:]]\n",
        "        return x_train, x_valid, y_train, y_valid\n",
        "\n",
        "\n",
        "    # A utility function to decode the output of the network\n",
        "    def decode_batch_predictions(self, pred):\n",
        "        input_len = np.ones(pred.shape[0]) * pred.shape[1]\n",
        "        # Use greedy search. For complex tasks, you can use beam search\n",
        "        results = keras.backend.ctc_decode(pred, input_length=input_len, greedy=True)[0][0][\n",
        "            :, :self.max_length\n",
        "        ]\n",
        "        # Iterate over the results and get back the text\n",
        "        output_text = []\n",
        "        for res in results:\n",
        "            res = tf.strings.reduce_join(self.num_to_char(res+1)).numpy().decode(\"utf-8\")\n",
        "            output_text.append(res)\n",
        "        return output_text"
      ]
    },
    {
      "cell_type": "markdown",
      "source": [
        "# prepare the data"
      ],
      "metadata": {
        "id": "siuSZB_opQQ3"
      }
    },
    {
      "cell_type": "code",
      "source": [
        "!cp drive/MyDrive/captcha/preped_captcha_dataset.tar.gz ."
      ],
      "metadata": {
        "id": "6fOPlMAfpPM5"
      },
      "execution_count": null,
      "outputs": []
    },
    {
      "cell_type": "code",
      "source": [
        "!tar -xf preped_captcha_dataset.tar.gz"
      ],
      "metadata": {
        "id": "R7hTS6phpuF7"
      },
      "execution_count": null,
      "outputs": []
    },
    {
      "cell_type": "code",
      "source": [
        "!ls captchas | wc -l"
      ],
      "metadata": {
        "colab": {
          "base_uri": "https://localhost:8080/"
        },
        "id": "vp__bJP0pzGr",
        "outputId": "10749ab5-266e-4dd8-dcb2-bbce7742a388"
      },
      "execution_count": null,
      "outputs": [
        {
          "output_type": "stream",
          "name": "stdout",
          "text": [
            "5000\n"
          ]
        }
      ]
    },
    {
      "cell_type": "code",
      "source": [
        "!cp drive/MyDrive/captcha/preped_captcha_test_dataset.tar.gz ."
      ],
      "metadata": {
        "id": "NP0qDRS42dgA"
      },
      "execution_count": null,
      "outputs": []
    },
    {
      "cell_type": "code",
      "source": [
        "!tar -xf preped_captcha_test_dataset.tar.gz"
      ],
      "metadata": {
        "id": "ACJHHvvn2dgA"
      },
      "execution_count": null,
      "outputs": []
    },
    {
      "cell_type": "markdown",
      "metadata": {
        "id": "KGlAAsDuIWe_"
      },
      "source": [
        "## the model"
      ]
    },
    {
      "cell_type": "code",
      "execution_count": null,
      "metadata": {
        "colab": {
          "base_uri": "https://localhost:8080/"
        },
        "id": "EU8rE9iiIaO0",
        "outputId": "e4a881dd-5f9f-4d4f-a60c-9cc8f2380f71"
      },
      "outputs": [
        {
          "output_type": "stream",
          "name": "stdout",
          "text": [
            "Epoch 1/20\n",
            "282/282 [==============================] - 32s 41ms/step - loss: 10.9721 - val_loss: 8.9480\n",
            "Epoch 2/20\n",
            "282/282 [==============================] - 9s 30ms/step - loss: 8.7178 - val_loss: 8.3509\n",
            "Epoch 3/20\n",
            "282/282 [==============================] - 9s 33ms/step - loss: 7.2366 - val_loss: 5.8174\n",
            "Epoch 4/20\n",
            "282/282 [==============================] - 9s 32ms/step - loss: 5.1197 - val_loss: 4.3246\n",
            "Epoch 5/20\n",
            "282/282 [==============================] - 8s 27ms/step - loss: 3.9045 - val_loss: 3.1020\n",
            "Epoch 6/20\n",
            "282/282 [==============================] - 9s 32ms/step - loss: 3.0412 - val_loss: 2.6331\n",
            "Epoch 7/20\n",
            "282/282 [==============================] - 8s 29ms/step - loss: 2.3407 - val_loss: 1.7755\n",
            "Epoch 8/20\n",
            "282/282 [==============================] - 8s 30ms/step - loss: 1.6887 - val_loss: 1.2152\n",
            "Epoch 9/20\n",
            "282/282 [==============================] - 9s 32ms/step - loss: 1.2357 - val_loss: 0.8428\n",
            "Epoch 10/20\n",
            "282/282 [==============================] - 9s 32ms/step - loss: 0.9040 - val_loss: 0.5954\n",
            "Epoch 11/20\n",
            "282/282 [==============================] - 9s 30ms/step - loss: 0.6211 - val_loss: 0.4137\n",
            "Epoch 12/20\n",
            "282/282 [==============================] - 9s 32ms/step - loss: 0.5115 - val_loss: 0.3636\n",
            "Epoch 13/20\n",
            "282/282 [==============================] - 9s 32ms/step - loss: 0.3912 - val_loss: 0.3655\n",
            "Epoch 14/20\n",
            "282/282 [==============================] - 8s 30ms/step - loss: 0.3659 - val_loss: 0.2201\n",
            "Epoch 15/20\n",
            "282/282 [==============================] - 8s 30ms/step - loss: 0.3024 - val_loss: 0.1868\n",
            "Epoch 16/20\n",
            "282/282 [==============================] - 9s 32ms/step - loss: 0.2659 - val_loss: 0.1882\n",
            "Epoch 17/20\n",
            "282/282 [==============================] - 9s 32ms/step - loss: 0.2340 - val_loss: 0.1999\n",
            "Epoch 18/20\n",
            "282/282 [==============================] - 8s 27ms/step - loss: 0.2061 - val_loss: 0.2005\n",
            "Epoch 19/20\n",
            "282/282 [==============================] - 10s 35ms/step - loss: 0.2057 - val_loss: 0.1729\n",
            "Epoch 20/20\n",
            "282/282 [==============================] - 9s 32ms/step - loss: 0.1985 - val_loss: 0.2370\n"
          ]
        }
      ],
      "source": [
        "import glob\n",
        "\n",
        "# Training image data path\n",
        "train_img_path_list = glob.glob(\"./captchas/*.png\")\n",
        "# Training label data path\n",
        "train_label_path_list = glob.glob('./labels/*.txt')\n",
        "\n",
        "# Training image data size\n",
        "img_width = 180\n",
        "img_height = 50\n",
        "\n",
        "# Creating an instance that creates a model\n",
        "CM = CreateModel(train_img_path_list, train_label_path_list, img_width, img_height)\n",
        "\n",
        "# Performing model training\n",
        "model = CM.train_model(epochs=20)\n",
        "\n",
        "# Saving the weights learned by the model to a file\n",
        "model.save_weights(\"./model/weights.h5\")"
      ]
    },
    {
      "cell_type": "markdown",
      "metadata": {
        "id": "2nJDlyhgQFMm"
      },
      "source": [
        "## predict"
      ]
    },
    {
      "cell_type": "code",
      "execution_count": null,
      "metadata": {
        "id": "FP4iye4nQE5D"
      },
      "outputs": [],
      "source": [
        "# Target image data size\n",
        "img_width = 180\n",
        "img_height = 50\n",
        "# Target image label length\n",
        "max_length = 5\n",
        "# Target image label component\n",
        "characters = {' ', '0', '1', '2', '3', '4', '5', '6', '7', '8', '9', '+', '-'}\n",
        "\n",
        "# Model weight file path\n",
        "weights_path = \"./model/weights.h5\"\n",
        "# Creating a model application instance\n",
        "AM = ApplyModel(weights_path, img_width, img_height, max_length, characters)"
      ]
    },
    {
      "cell_type": "code",
      "execution_count": null,
      "metadata": {
        "colab": {
          "base_uri": "https://localhost:8080/"
        },
        "id": "_XbkySVvQDOZ",
        "outputId": "37606693-2eb2-4425-c3f8-f097cd8af7bc"
      },
      "outputs": [
        {
          "output_type": "stream",
          "name": "stdout",
          "text": [
            "1/1 [==============================] - 0s 35ms/step\n",
            " 7+13\n"
          ]
        }
      ],
      "source": [
        "# Target image path\n",
        "target_img_path = \"./captchas/2.png\"\n",
        "\n",
        "# Predicted value\n",
        "pred = AM.predict(target_img_path)\n",
        "print(pred)"
      ]
    },
    {
      "cell_type": "code",
      "execution_count": null,
      "metadata": {
        "id": "ytV7cfm_SlPm",
        "colab": {
          "base_uri": "https://localhost:8080/"
        },
        "outputId": "c205d195-7187-4581-f472-a7c335a41772"
      },
      "outputs": [
        {
          "output_type": "stream",
          "name": "stdout",
          "text": [
            "1/1 [==============================] - 0s 52ms/step\n",
            "13+8\n",
            " 13+8\n",
            "1/1 [==============================] - 0s 40ms/step\n",
            "16-8\n",
            " 16-8\n",
            "1/1 [==============================] - 0s 34ms/step\n",
            "14-6\n",
            " 14-6\n",
            "1/1 [==============================] - 0s 40ms/step\n",
            "7+18\n",
            " 7+18\n",
            "1/1 [==============================] - 0s 53ms/step\n",
            "1+13\n",
            " 1+13\n",
            "1/1 [==============================] - 0s 52ms/step\n",
            "11-6\n",
            " 11-6\n",
            "1/1 [==============================] - 0s 102ms/step\n",
            "17-2\n",
            " 17-2\n",
            "1/1 [==============================] - 0s 120ms/step\n",
            "4+10\n",
            " 4+10\n",
            "1/1 [==============================] - 0s 106ms/step\n",
            "4+10\n",
            " 4+10\n",
            "1/1 [==============================] - 0s 107ms/step\n",
            "5+17\n",
            " 5+17\n",
            "1/1 [==============================] - 0s 124ms/step\n",
            "3+16\n",
            " 3+16\n",
            "1/1 [==============================] - 0s 70ms/step\n",
            "1/1 [==============================] - 0s 76ms/step\n",
            "9+5\n",
            "  9+5\n",
            "1/1 [==============================] - 0s 108ms/step\n",
            "19+4\n",
            " 19+4\n",
            "1/1 [==============================] - 0s 66ms/step\n",
            "17+4\n",
            " 17+4\n",
            "1/1 [==============================] - 0s 75ms/step\n",
            "13-8\n",
            " 13-8\n",
            "1/1 [==============================] - 0s 74ms/step\n",
            "12+15\n",
            "12+15\n",
            "1/1 [==============================] - 0s 32ms/step\n",
            "13-5\n",
            " 13-5\n",
            "1/1 [==============================] - 0s 34ms/step\n",
            "3+5\n",
            "  3+5\n",
            "1/1 [==============================] - 0s 36ms/step\n",
            "14-1\n",
            " 14-1\n",
            "1/1 [==============================] - 0s 33ms/step\n",
            "11+14\n",
            "11+14\n",
            "1/1 [==============================] - 0s 32ms/step\n",
            "13-8\n",
            " 13-8\n",
            "1/1 [==============================] - 0s 34ms/step\n",
            "11-6\n",
            " 11-6\n",
            "1/1 [==============================] - 0s 36ms/step\n",
            "15-7\n",
            " 15-7\n",
            "1/1 [==============================] - 0s 30ms/step\n",
            "5+16\n",
            " 5+16\n",
            "1/1 [==============================] - 0s 32ms/step\n",
            "18+2\n",
            " 18+2\n",
            "1/1 [==============================] - 0s 31ms/step\n",
            "10-5\n",
            " 10-5\n",
            "1/1 [==============================] - 0s 31ms/step\n",
            "13+4\n",
            " 13+4\n",
            "1/1 [==============================] - 0s 37ms/step\n",
            "12-4\n",
            " 12-4\n",
            "1/1 [==============================] - 0s 38ms/step\n",
            "17+9\n",
            " 17+9\n",
            "1/1 [==============================] - 0s 42ms/step\n",
            "14-8\n",
            " 14-8\n",
            "1/1 [==============================] - 0s 36ms/step\n",
            "9+6\n",
            "  9+6\n",
            "1/1 [==============================] - 0s 28ms/step\n",
            "14-1\n",
            " 14-1\n",
            "1/1 [==============================] - 0s 22ms/step\n",
            "13-1\n",
            " 13-1\n",
            "1/1 [==============================] - 0s 25ms/step\n",
            "17+4\n",
            " 17+4\n",
            "1/1 [==============================] - 0s 20ms/step\n",
            "14-3\n",
            " 14-3\n",
            "1/1 [==============================] - 0s 20ms/step\n",
            "15-1\n",
            " 15-1\n",
            "1/1 [==============================] - 0s 22ms/step\n",
            "1+18\n",
            " 1+18\n",
            "1/1 [==============================] - 0s 23ms/step\n",
            "8+3\n",
            "  8+3\n",
            "1/1 [==============================] - 0s 25ms/step\n",
            "4+1\n",
            "  4+1\n",
            "1/1 [==============================] - 0s 26ms/step\n",
            "17+11\n",
            "17+11\n",
            "1/1 [==============================] - 0s 23ms/step\n",
            "12-7\n",
            " 12-7\n",
            "1/1 [==============================] - 0s 22ms/step\n",
            "14+12\n",
            "14+12\n",
            "1/1 [==============================] - 0s 24ms/step\n",
            "1/1 [==============================] - 0s 24ms/step\n",
            "11+16\n",
            "11+16\n",
            "1/1 [==============================] - 0s 24ms/step\n",
            "13+5\n",
            " 13+5\n",
            "1/1 [==============================] - 0s 21ms/step\n",
            "12-3\n",
            " 12-3\n",
            "1/1 [==============================] - 0s 25ms/step\n",
            "17-8\n",
            " 17-8\n",
            "1/1 [==============================] - 0s 22ms/step\n",
            "15+7\n",
            " 15+7\n",
            "1/1 [==============================] - 0s 25ms/step\n",
            "17+5\n",
            " 17+5\n",
            "1/1 [==============================] - 0s 21ms/step\n",
            "17-3\n",
            " 17-3\n",
            "1/1 [==============================] - 0s 26ms/step\n",
            "18-3\n",
            " 18-3\n",
            "1/1 [==============================] - 0s 26ms/step\n",
            "13-2\n",
            " 13-2\n",
            "1/1 [==============================] - 0s 25ms/step\n",
            "8+16\n",
            " 8+16\n",
            "1/1 [==============================] - 0s 27ms/step\n",
            "16+19\n",
            "16+19\n",
            "1/1 [==============================] - 0s 23ms/step\n",
            "18-8\n",
            " 18-8\n",
            "1/1 [==============================] - 0s 24ms/step\n",
            "14+13\n",
            "14+13\n",
            "1/1 [==============================] - 0s 26ms/step\n",
            "12+19\n",
            "12+19\n",
            "1/1 [==============================] - 0s 26ms/step\n",
            "11+3\n",
            " 11+3\n",
            "1/1 [==============================] - 0s 24ms/step\n",
            "14-5\n",
            " 14-5\n",
            "1/1 [==============================] - 0s 25ms/step\n",
            "9+7\n",
            "  9+7\n",
            "1/1 [==============================] - 0s 21ms/step\n",
            "16-6\n",
            " 16-6\n",
            "1/1 [==============================] - 0s 23ms/step\n",
            "15+1\n",
            " 15+1\n",
            "1/1 [==============================] - 0s 24ms/step\n",
            "3+11\n",
            " 3+11\n",
            "1/1 [==============================] - 0s 22ms/step\n",
            "3+14\n",
            " 3+14\n",
            "1/1 [==============================] - 0s 23ms/step\n",
            "7+8\n",
            "  7+8\n",
            "1/1 [==============================] - 0s 21ms/step\n",
            "10+16\n",
            "10+16\n",
            "1/1 [==============================] - 0s 25ms/step\n",
            "19-8\n",
            " 19-8\n",
            "1/1 [==============================] - 0s 22ms/step\n",
            "11+10\n",
            "11+10\n",
            "1/1 [==============================] - 0s 24ms/step\n",
            "4+5\n",
            "  4+5\n",
            "1/1 [==============================] - 0s 26ms/step\n",
            "12-6\n",
            " 12-6\n",
            "1/1 [==============================] - 0s 24ms/step\n",
            "13-6\n",
            " 13-6\n",
            "1/1 [==============================] - 0s 22ms/step\n",
            "13-3\n",
            " 13-3\n",
            "1/1 [==============================] - 0s 26ms/step\n",
            "10-8\n",
            " 10-8\n",
            "1/1 [==============================] - 0s 22ms/step\n",
            "8+8\n",
            "  8+8\n",
            "1/1 [==============================] - 0s 23ms/step\n",
            "11+16\n",
            "11+16\n",
            "1/1 [==============================] - 0s 21ms/step\n",
            "12+6\n",
            " 12+6\n",
            "1/1 [==============================] - 0s 20ms/step\n",
            "1+15\n",
            " 1+15\n",
            "1/1 [==============================] - 0s 23ms/step\n",
            "11-1\n",
            " 11-1\n",
            "1/1 [==============================] - 0s 23ms/step\n",
            "16+8\n",
            " 16+8\n",
            "1/1 [==============================] - 0s 24ms/step\n",
            "17+12\n",
            "17+12\n",
            "1/1 [==============================] - 0s 25ms/step\n",
            "6+5\n",
            "  6+5\n",
            "1/1 [==============================] - 0s 23ms/step\n",
            "11-1\n",
            " 11-1\n",
            "1/1 [==============================] - 0s 31ms/step\n",
            "12+6\n",
            " 12+6\n",
            "1/1 [==============================] - 0s 26ms/step\n",
            "12-6\n",
            " 12-6\n",
            "1/1 [==============================] - 0s 26ms/step\n",
            "4+2\n",
            "  4+2\n",
            "1/1 [==============================] - 0s 24ms/step\n",
            "1+5\n",
            "  1+5\n",
            "1/1 [==============================] - 0s 31ms/step\n",
            "7+7\n",
            "  7+7\n",
            "1/1 [==============================] - 0s 28ms/step\n",
            "11-3\n",
            " 11-3\n",
            "1/1 [==============================] - 0s 23ms/step\n",
            "19-8\n",
            " 19-8\n",
            "1/1 [==============================] - 0s 24ms/step\n",
            "1+6\n",
            "  1+6\n",
            "1/1 [==============================] - 0s 25ms/step\n",
            "19+5\n",
            " 19+5\n",
            "1/1 [==============================] - 0s 22ms/step\n",
            "12-8\n",
            " 12-8\n",
            "1/1 [==============================] - 0s 23ms/step\n",
            "16-2\n",
            " 16-2\n",
            "1/1 [==============================] - 0s 32ms/step\n",
            "11-3\n",
            " 11-3\n",
            "1/1 [==============================] - 0s 27ms/step\n",
            "12-2\n",
            " 12-2\n",
            "1/1 [==============================] - 0s 25ms/step\n",
            "15-2\n",
            " 15-2\n",
            "1/1 [==============================] - 0s 28ms/step\n",
            "17+2\n",
            " 17+2\n",
            "1/1 [==============================] - 0s 23ms/step\n",
            "16-5\n",
            " 16-5\n",
            "1/1 [==============================] - 0s 23ms/step\n",
            "13-3\n",
            " 13-3\n",
            "1/1 [==============================] - 0s 25ms/step\n",
            "19+6\n",
            " 19+6\n",
            "1/1 [==============================] - 0s 36ms/step\n",
            "19-7\n",
            " 19-7\n"
          ]
        }
      ],
      "source": [
        "import os\n",
        "\n",
        "detected = 0\n",
        "wrong = []\n",
        "\n",
        "# Test image data path\n",
        "test_img_path_list = sorted(glob.glob(\"./test_captchas/*.png\"))\n",
        "# Test label data path\n",
        "test_label_path_list = sorted(glob.glob('./test_labels/*.txt'))\n",
        "\n",
        "for i, captcha_name in enumerate(test_img_path_list):\n",
        "  label_name = captcha_name.replace('captchas', 'labels').replace('png', 'txt')\n",
        "\n",
        "  with open(label_name, 'r') as f:\n",
        "    ans = f.readline()\n",
        "\n",
        "  pred = AM.predict(captcha_name)\n",
        "\n",
        "  if ans.strip() == pred.strip():\n",
        "    print(ans)\n",
        "    print(pred)\n",
        "    detected += 1\n",
        "  else:\n",
        "    wrong.append((captcha_name, pred, ans))\n",
        "\n",
        "  if i > 100: break\n"
      ]
    },
    {
      "cell_type": "code",
      "execution_count": null,
      "metadata": {
        "colab": {
          "base_uri": "https://localhost:8080/"
        },
        "id": "E-_LAOpEUslF",
        "outputId": "a0726fe1-4319-451f-d627-b00b228bcacd"
      },
      "outputs": [
        {
          "output_type": "stream",
          "name": "stdout",
          "text": [
            "accuracy: 96.0%\n"
          ]
        }
      ],
      "source": [
        "print(f\"accuracy: {detected/len(test_img_path_list)*100}%\")"
      ]
    },
    {
      "cell_type": "code",
      "execution_count": null,
      "metadata": {
        "id": "0ZyAaciEUJpa"
      },
      "outputs": [],
      "source": [
        "!cp model/weights.h5 drive/MyDrive/checkpoints/final/weights.h5"
      ]
    },
    {
      "cell_type": "code",
      "source": [
        "wrong"
      ],
      "metadata": {
        "colab": {
          "base_uri": "https://localhost:8080/"
        },
        "id": "oROEjySj9sFv",
        "outputId": "df361159-c471-4f68-e7a9-d697e0f0f17c"
      },
      "execution_count": null,
      "outputs": [
        {
          "output_type": "execute_result",
          "data": {
            "text/plain": [
              "[('./test_captchas/5012.png', '  6+5', '6+8'),\n",
              " ('./test_captchas/5044.png', ' 19-3', '18-3')]"
            ]
          },
          "metadata": {},
          "execution_count": 76
        }
      ]
    },
    {
      "cell_type": "markdown",
      "source": [
        "# preprocessing functions"
      ],
      "metadata": {
        "id": "lwMk-tAT4-oX"
      }
    },
    {
      "cell_type": "code",
      "source": [
        "import cv2"
      ],
      "metadata": {
        "id": "r5ZR1ZrM5ELI"
      },
      "execution_count": null,
      "outputs": []
    },
    {
      "cell_type": "code",
      "source": [
        "def remove_noise(img):\n",
        "  kernel_size = 3\n",
        "  kernel = cv2.getStructuringElement(cv2.MORPH_ELLIPSE, (kernel_size, kernel_size))\n",
        "  closing = cv2.morphologyEx(img, cv2.MORPH_CLOSE, kernel)\n",
        "\n",
        "  # Apply binary thresholding with a threshold value of 127\n",
        "  threshold_value = 190\n",
        "  max_value = 255\n",
        "  ret, thresholded_img = cv2.threshold(closing, threshold_value, max_value, cv2.THRESH_BINARY)\n",
        "\n",
        "  kernel_size = 3\n",
        "  kernel = cv2.getStructuringElement(cv2.MORPH_ELLIPSE, (kernel_size, kernel_size))\n",
        "  dilation = cv2.morphologyEx(thresholded_img, cv2.MORPH_DILATE, kernel)\n",
        "  return dilation"
      ],
      "metadata": {
        "id": "nDv6nc8e5CnF"
      },
      "execution_count": null,
      "outputs": []
    },
    {
      "cell_type": "code",
      "source": [
        "def process(img_path, new_img_path='tmp.png'):\n",
        "  img = cv2.imread(img_path, 0)\n",
        "  final = remove_noise(img)\n",
        "  cv2.imwrite(new_img_path, final)"
      ],
      "metadata": {
        "id": "KbfE6PLN5LVl"
      },
      "execution_count": null,
      "outputs": []
    },
    {
      "cell_type": "markdown",
      "source": [
        "# final prediction function"
      ],
      "metadata": {
        "id": "i9m71FbD4teL"
      }
    },
    {
      "cell_type": "code",
      "source": [
        "!cp drive/MyDrive/captcha/medium-captcha-2.tar.gz ."
      ],
      "metadata": {
        "id": "_M6dbjz6B1Wj"
      },
      "execution_count": null,
      "outputs": []
    },
    {
      "cell_type": "code",
      "source": [
        "!tar -xf medium-captcha-2.tar.gz"
      ],
      "metadata": {
        "id": "Hicudb0rCEwA"
      },
      "execution_count": null,
      "outputs": []
    },
    {
      "cell_type": "code",
      "source": [
        "def predict(captcha_path):\n",
        "\n",
        "  temp_captcha_path = './tmp.png'\n",
        "  process(captcha_path, temp_captcha_path)\n",
        "\n",
        "  pred = AM.predict(temp_captcha_path).strip()\n",
        "  output = eval(pred)\n",
        "\n",
        "  os.remove(temp_captcha_path)\n",
        "  return output"
      ],
      "metadata": {
        "id": "FVPzYkwXpEzS"
      },
      "execution_count": null,
      "outputs": []
    },
    {
      "cell_type": "code",
      "source": [
        "predict('./captcha/5005.png')"
      ],
      "metadata": {
        "colab": {
          "base_uri": "https://localhost:8080/"
        },
        "id": "UqUG_0u06JFi",
        "outputId": "22a04121-2189-4b1d-84ef-eae6a55cd5b9"
      },
      "execution_count": null,
      "outputs": [
        {
          "output_type": "stream",
          "name": "stdout",
          "text": [
            "1/1 [==============================] - 0s 32ms/step\n"
          ]
        },
        {
          "output_type": "execute_result",
          "data": {
            "text/plain": [
              "14"
            ]
          },
          "metadata": {},
          "execution_count": 92
        }
      ]
    },
    {
      "cell_type": "code",
      "source": [
        "import matplotlib.pyplot as plt\n",
        "\n",
        "img = cv2.imread('./captcha/5005.png')\n",
        "\n",
        "plt.imshow(img, cmap='gray')"
      ],
      "metadata": {
        "colab": {
          "base_uri": "https://localhost:8080/",
          "height": 219
        },
        "id": "pIGZvWzi6e4t",
        "outputId": "cb4b523f-0d4f-47de-f6ee-ce1258270619"
      },
      "execution_count": null,
      "outputs": [
        {
          "output_type": "execute_result",
          "data": {
            "text/plain": [
              "<matplotlib.image.AxesImage at 0x79bd582e1060>"
            ]
          },
          "metadata": {},
          "execution_count": 95
        },
        {
          "output_type": "display_data",
          "data": {
            "text/plain": [
              "<Figure size 640x480 with 1 Axes>"
            ],
            "image/png": "[encoded data removed]"
          },
          "metadata": {}
        }
      ]
    }
  ]
}